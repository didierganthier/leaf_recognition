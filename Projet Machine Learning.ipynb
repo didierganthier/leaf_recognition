{
 "cells": [
  {
   "cell_type": "code",
   "execution_count": 8,
   "metadata": {},
   "outputs": [],
   "source": [
    "import tensorflow as tf\n",
    "import os\n",
    "import numpy as np\n",
    "import matplotlib.pyplot as plt\n",
    "import cv2\n",
    "import sklearn.model_selection as model_selection\n",
    "import pandas as pd"
   ]
  },
  {
   "cell_type": "code",
   "execution_count": 14,
   "metadata": {},
   "outputs": [],
   "source": [
    "# Location des fichiers\n",
    "DATADIR = \"C:\\\\Users\\\\Ganthier\\\\Desktop\\\\Mango\"  \n",
    "CATEGORIES = [\"mango_corn\", \"mango_fil\", \"mango_Fransik\"]         "
   ]
  },
  {
   "cell_type": "code",
   "execution_count": 15,
   "metadata": {},
   "outputs": [],
   "source": [
    "# Lecture des fichiers dans numpy array\n",
    "IMG_SIZE = 50\n",
    "training_data = []\n",
    "for category in CATEGORIES:  # do dogs and cats\n",
    "    path = os.path.join(DATADIR,category)  # create path to dogs and cats\n",
    "    class_num = CATEGORIES.index(category)  # get the classification  (0 or a 1). 0=dog 1=cat\n",
    "    for img in os.listdir(path):  # iterate over each image per dogs and cats\n",
    "            try:\n",
    "                img_array = cv2.imread(os.path.join(path,img) ,cv2.IMREAD_GRAYSCALE)  # convert to array\n",
    "                new_array = cv2.resize(img_array, (IMG_SIZE, IMG_SIZE))  # resize to normalize data size\n",
    "                training_data.append([new_array, class_num])  # add this to our training_data\n",
    "                #plt.imshow(img_array, cmap='gray')  # graph it\n",
    "                #plt.show()             \n",
    "            except Exception as e:  # in the interest in keeping the output clean...\n",
    "                pass"
   ]
  },
  {
   "cell_type": "code",
   "execution_count": 16,
   "metadata": {},
   "outputs": [],
   "source": [
    "X = []\n",
    "y = []\n",
    "for features,label in training_data:\n",
    "    X.append(features)\n",
    "    y.append(label)\n",
    "\n",
    "#plt.imshow(X[0], cmap='gray')  # graph it\n",
    "#plt.show() \n",
    "\n",
    "X = np.array(X).reshape(-1, IMG_SIZE, IMG_SIZE, 1)      # reformatter les features\n",
    "#print(X.shape)\n",
    "#print(X.shape[1:])\n",
    "\n",
    "X = X.astype('float32')\n",
    "X = X/255.0\n",
    "X_train, X_test, y_train, y_test = model_selection.train_test_split(X, y, test_size=0.2, random_state=5)"
   ]
  },
  {
   "cell_type": "code",
   "execution_count": 23,
   "metadata": {},
   "outputs": [
    {
     "name": "stdout",
     "output_type": "stream",
     "text": [
      "Epoch 1/5\n",
      "1204/1204 [==============================] - 3s 3ms/sample - loss: 0.6595 - acc: 0.7259\n",
      "Epoch 2/5\n",
      "1204/1204 [==============================] - 2s 2ms/sample - loss: 0.3449 - acc: 0.8729\n",
      "Epoch 3/5\n",
      "1204/1204 [==============================] - 2s 2ms/sample - loss: 0.3095 - acc: 0.8929\n",
      "Epoch 4/5\n",
      "1204/1204 [==============================] - 2s 2ms/sample - loss: 0.2240 - acc: 0.9178\n",
      "Epoch 5/5\n",
      "1204/1204 [==============================] - 2s 2ms/sample - loss: 0.1869 - acc: 0.9352\n",
      "301/301 [==============================] - 1s 3ms/sample - loss: 0.1576 - acc: 0.9635\n"
     ]
    },
    {
     "data": {
      "text/plain": [
       "[0.15762375780316287, 0.96345514]"
      ]
     },
     "execution_count": 23,
     "metadata": {},
     "output_type": "execute_result"
    }
   ],
   "source": [
    "from tensorflow import keras\n",
    "\n",
    "model = keras.Sequential([\n",
    "    keras.layers.Flatten(input_shape=(IMG_SIZE, IMG_SIZE, 1)),\n",
    "    keras.layers.Dense(128, activation=tf.nn.relu),\n",
    "    keras.layers.Dense(10, activation=tf.nn.softmax)\n",
    "])\n",
    "\n",
    "model.compile(optimizer='adam',\n",
    "              loss='sparse_categorical_crossentropy',\n",
    "              metrics=['accuracy'])\n",
    "\n",
    "model.fit(X_train, y_train, epochs=5, shuffle=True)\n",
    "keras.models.save_model(model, \"C:\\\\Users\\\\Ganthier\\\\Desktop\\\\img.model\")\n",
    "model.evaluate(X_test, y_test)"
   ]
  },
  {
   "cell_type": "code",
   "execution_count": 24,
   "metadata": {},
   "outputs": [],
   "source": [
    "y_test_pred = model.predict(X_test)\n",
    "\n",
    "test_result = pd.DataFrame(y_test_pred, y_test)\n",
    "#print(test_result)"
   ]
  },
  {
   "cell_type": "code",
   "execution_count": 25,
   "metadata": {},
   "outputs": [
    {
     "name": "stdout",
     "output_type": "stream",
     "text": [
      "mango_corn\n",
      "mango_fil\n",
      "mango_corn\n"
     ]
    }
   ],
   "source": [
    "def prepare(filepath):\n",
    "    #IMG_SIZE = 70  # 50 in txt-based\n",
    "    img_array = cv2.imread(filepath, cv2.IMREAD_GRAYSCALE)  # read in the image, convert to grayscale\n",
    "    new_array = cv2.resize(img_array, (IMG_SIZE, IMG_SIZE))  # resize image to match model's expected sizing\n",
    "    return new_array.reshape(-1, IMG_SIZE, IMG_SIZE, 1)  # return the image with shaping that TF wants.\n",
    "\n",
    "prediction= model.predict([prepare(\"C:\\\\Users\\\\Ganthier\\\\Desktop\\\\Mango\\\\mango_corn\\\\output_image-0001.jpg\" )])\n",
    "prediction1 = model.predict([prepare(\"C:\\\\Users\\\\Ganthier\\\\Desktop\\\\Mango\\\\mango_fil\\\\output_image0001.jpg\")])\n",
    "prediction2= model.predict([prepare(\"C:\\\\Users\\\\Ganthier\\\\Desktop\\\\Mango\\\\mango_Fransik\\\\mangofransik_image-0001.jpg\")])\n",
    "\n",
    "def trouver_1(p):\n",
    "    ar = []\n",
    "    for n in p:\n",
    "        ar.append(int(n))\n",
    "    return ar.index(1, 0)\n",
    "\n",
    "#ar.append(prediction[0].astype('int'))\n",
    "#print(ar)\n",
    "#print(ar.index(1, 0))\n",
    "print(CATEGORIES[trouver_1(prediction[0])])\n",
    "print(CATEGORIES[trouver_1(prediction1[0])])\n",
    "print(CATEGORIES[trouver_1(prediction2[0])])\n"
   ]
  },
  {
   "cell_type": "code",
   "execution_count": null,
   "metadata": {},
   "outputs": [],
   "source": []
  }
 ],
 "metadata": {
  "kernelspec": {
   "display_name": "Python 3",
   "language": "python",
   "name": "python3"
  },
  "language_info": {
   "codemirror_mode": {
    "name": "ipython",
    "version": 3
   },
   "file_extension": ".py",
   "mimetype": "text/x-python",
   "name": "python",
   "nbconvert_exporter": "python",
   "pygments_lexer": "ipython3",
   "version": "3.7.3"
  }
 },
 "nbformat": 4,
 "nbformat_minor": 2
}
